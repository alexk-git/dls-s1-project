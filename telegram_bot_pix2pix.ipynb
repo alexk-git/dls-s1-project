{
  "nbformat": 4,
  "nbformat_minor": 0,
  "metadata": {
    "accelerator": "GPU",
    "colab": {
      "name": "telegram_bot_pix2pix.ipynb",
      "provenance": [],
      "collapsed_sections": []
    },
    "kernelspec": {
      "display_name": "Python 3",
      "language": "python",
      "name": "python3"
    },
    "language_info": {
      "codemirror_mode": {
        "name": "ipython",
        "version": 3
      },
      "file_extension": ".py",
      "mimetype": "text/x-python",
      "name": "python",
      "nbconvert_exporter": "python",
      "pygments_lexer": "ipython3",
      "version": "3.8.3"
    }
  },
  "cells": [
    {
      "cell_type": "markdown",
      "metadata": {
        "id": "HM0jPDMi82_y"
      },
      "source": [
        "### Запуск telegram-бота на Colab."
      ]
    },
    {
      "cell_type": "markdown",
      "metadata": {
        "id": "wHWToTaKkzOa"
      },
      "source": [
        "Для работы бота aiogram нужно: удалить старую версию Python 3.6, установить Python 3.7, pip 3.7 и правильную версию pytorch (которая соответствует установленным в колабе драйверам CUDA)."
      ]
    },
    {
      "cell_type": "markdown",
      "metadata": {
        "id": "kuilrmrakchb"
      },
      "source": [
        "Подключим GoogleDrive - на нём размещен скрипт с ботом, с нейронкой и веса предобученной модели."
      ]
    },
    {
      "cell_type": "code",
      "metadata": {
        "colab": {
          "base_uri": "https://localhost:8080/"
        },
        "id": "MX6ohpwnqWtH",
        "outputId": "f2a99dc5-914b-41d2-fb2b-f184d5d278fb"
      },
      "source": [
        "from google.colab import drive\n",
        "drive.mount('/content/gdrive/')"
      ],
      "execution_count": 1,
      "outputs": [
        {
          "output_type": "stream",
          "text": [
            "Mounted at /content/gdrive/\n"
          ],
          "name": "stdout"
        }
      ]
    },
    {
      "cell_type": "code",
      "metadata": {
        "colab": {
          "base_uri": "https://localhost:8080/"
        },
        "id": "SdlkKbpkqWtI",
        "outputId": "31a5cdba-f7fa-499d-acbd-055a36d99348"
      },
      "source": [
        "!ls gdrive/MyDrive/pix2pix/"
      ],
      "execution_count": 21,
      "outputs": [
        {
          "output_type": "stream",
          "text": [
            "DLS_AlexK_bot_pix2pix.py  pix2pix.py  pytorch_models\n"
          ],
          "name": "stdout"
        }
      ]
    },
    {
      "cell_type": "markdown",
      "metadata": {
        "id": "P_5W57WL9Tph"
      },
      "source": [
        "`DLS_AlexK_bot_pix2pix.py` - бот: позволяет загрузить картинку (портрет) и возвращает в чат результат - картинку в виде скетча.\n",
        "\n",
        "`pix2pix.py` - скрипт с нейронкой: принимает в качестве параметров изображение (портрет), после чего создаёт на локальном диске файл output.png с результатом (скетчем)\n"
      ]
    },
    {
      "cell_type": "markdown",
      "metadata": {
        "id": "lIzE746Dkkqs"
      },
      "source": [
        "Удалим старую версию Pyton 3.6, с которой не работает aiogram."
      ]
    },
    {
      "cell_type": "code",
      "metadata": {
        "colab": {
          "base_uri": "https://localhost:8080/"
        },
        "id": "OPimYyoDqjF5",
        "outputId": "d0c56c4a-2bdf-4d78-c9a2-8c470af20b7c"
      },
      "source": [
        "!apt remove python3"
      ],
      "execution_count": 3,
      "outputs": [
        {
          "output_type": "stream",
          "text": [
            "Reading package lists... Done\n",
            "Building dependency tree       \n",
            "Reading state information... Done\n",
            "The following packages were automatically installed and are no longer required:\n",
            "  cuda-command-line-tools-10-0 cuda-compiler-10-0 cuda-cuobjdump-10-0\n",
            "  cuda-cupti-10-0 cuda-documentation-10-0 cuda-documentation-10-1\n",
            "  cuda-gdb-10-0 cuda-gpu-library-advisor-10-0 cuda-libraries-10-0\n",
            "  cuda-memcheck-10-0 cuda-nsight-10-0 cuda-nsight-10-1\n",
            "  cuda-nsight-compute-10-0 cuda-nsight-compute-10-1 cuda-nsight-systems-10-1\n",
            "  cuda-nvcc-10-0 cuda-nvdisasm-10-0 cuda-nvml-dev-10-0 cuda-nvprof-10-0\n",
            "  cuda-nvprune-10-0 cuda-nvtx-10-0 cuda-nvvp-10-0 cuda-nvvp-10-1\n",
            "  cuda-samples-10-0 cuda-samples-10-1 cuda-toolkit-10-0 cuda-toolkit-10-1\n",
            "  cuda-tools-10-0 cuda-tools-10-1 cuda-visual-tools-10-0\n",
            "  cuda-visual-tools-10-1 default-jre distro-info-data dkms freeglut3\n",
            "  freeglut3-dev gir1.2-glib-2.0 gir1.2-harfbuzz-0.0 icu-devtools iso-codes\n",
            "  keyboard-configuration libargon2-0 libboost-atomic-dev\n",
            "  libboost-atomic1.65-dev libboost-atomic1.65.1 libboost-chrono-dev\n",
            "  libboost-chrono1.65-dev libboost-chrono1.65.1 libboost-container-dev\n",
            "  libboost-container1.65-dev libboost-container1.65.1 libboost-context-dev\n",
            "  libboost-context1.65-dev libboost-context1.65.1 libboost-coroutine-dev\n",
            "  libboost-coroutine1.65-dev libboost-coroutine1.65.1 libboost-date-time-dev\n",
            "  libboost-date-time1.65-dev libboost-date-time1.65.1 libboost-dev\n",
            "  libboost-exception-dev libboost-exception1.65-dev libboost-fiber-dev\n",
            "  libboost-fiber1.65-dev libboost-fiber1.65.1 libboost-filesystem-dev\n",
            "  libboost-filesystem1.65-dev libboost-filesystem1.65.1 libboost-graph-dev\n",
            "  libboost-graph-parallel-dev libboost-graph-parallel1.65-dev\n",
            "  libboost-graph-parallel1.65.1 libboost-graph1.65-dev libboost-graph1.65.1\n",
            "  libboost-iostreams1.65.1 libboost-locale-dev libboost-locale1.65-dev\n",
            "  libboost-locale1.65.1 libboost-log-dev libboost-log1.65-dev\n",
            "  libboost-log1.65.1 libboost-math-dev libboost-math1.65-dev\n",
            "  libboost-math1.65.1 libboost-mpi-dev libboost-mpi1.65-dev libboost-mpi1.65.1\n",
            "  libboost-numpy-dev libboost-numpy1.65-dev libboost-numpy1.65.1\n",
            "  libboost-program-options-dev libboost-program-options1.65-dev\n",
            "  libboost-program-options1.65.1 libboost-python1.65.1 libboost-random-dev\n",
            "  libboost-random1.65-dev libboost-random1.65.1 libboost-regex1.65.1\n",
            "  libboost-serialization-dev libboost-serialization1.65-dev\n",
            "  libboost-serialization1.65.1 libboost-signals-dev libboost-signals1.65-dev\n",
            "  libboost-signals1.65.1 libboost-stacktrace-dev libboost-stacktrace1.65-dev\n",
            "  libboost-stacktrace1.65.1 libboost-system-dev libboost-system1.65-dev\n",
            "  libboost-system1.65.1 libboost-test-dev libboost-test1.65-dev\n",
            "  libboost-test1.65.1 libboost-thread-dev libboost-thread1.65-dev\n",
            "  libboost-thread1.65.1 libboost-timer-dev libboost-timer1.65-dev\n",
            "  libboost-timer1.65.1 libboost-tools-dev libboost-type-erasure-dev\n",
            "  libboost-type-erasure1.65-dev libboost-type-erasure1.65.1 libboost-wave-dev\n",
            "  libboost-wave1.65-dev libboost-wave1.65.1 libboost1.65-dev\n",
            "  libboost1.65-tools-dev libbz2-dev libcap2 libcryptsetup12 libdevmapper1.02.1\n",
            "  libfontenc1 libgirepository-1.0-1 libglib2.0-bin libgraphite2-dev\n",
            "  libharfbuzz-gobject0 libharfbuzz-icu0 libicu-le-hb0 libiculx60 libidn11\n",
            "  libip4tc0 libjansson4 libnvidia-decode-460 libnvidia-encode-460\n",
            "  libnvidia-extra-460 libnvidia-fbc1-460 libnvidia-ifr1-460 libpam-systemd\n",
            "  libpcre16-3 libpcre2-16-0 libpcre2-32-0 libpcre2-dev libpcre2-posix0\n",
            "  libpcre3-dev libpcre32-3 libpcrecpp0v5 libpolkit-agent-1-0\n",
            "  libpolkit-backend-1-0 libpolkit-gobject-1-0 libpython3-stdlib\n",
            "  libreadline-dev libxfont2 libxi-dev libxkbfile1 libxmu-dev libxmu-headers\n",
            "  libxnvctrl0 mpi-default-bin mpi-default-dev nsight-compute-2020.3.0\n",
            "  nsight-systems-2020.4.3 nvidia-compute-utils-460 nvidia-dkms-460\n",
            "  nvidia-driver-460 nvidia-kernel-common-460 nvidia-kernel-source-460\n",
            "  nvidia-modprobe nvidia-utils-460 openjdk-11-jre policykit-1\n",
            "  policykit-1-gnome python-apt-common python3-minimal python3.6 python3.6-dev\n",
            "  python3.6-minimal systemd systemd-sysv udev x11-xkb-utils xserver-common\n",
            "  xserver-xorg-core-hwe-18.04 xserver-xorg-video-nvidia-460\n",
            "Use 'apt autoremove' to remove them.\n",
            "The following packages will be REMOVED:\n",
            "  cuda-10-0 cuda-10-1 cuda-demo-suite-10-0 cuda-demo-suite-10-1 cuda-drivers\n",
            "  cuda-drivers-460 cuda-runtime-10-0 cuda-runtime-10-1 dh-python\n",
            "  libboost-all-dev libboost-iostreams-dev libboost-iostreams1.65-dev\n",
            "  libboost-mpi-python-dev libboost-mpi-python1.65-dev\n",
            "  libboost-mpi-python1.65.1 libboost-python-dev libboost-python1.65-dev\n",
            "  libboost-regex-dev libboost-regex1.65-dev libglib2.0-dev libglib2.0-dev-bin\n",
            "  libharfbuzz-dev libicu-dev libicu-le-hb-dev libxml2-dev lsb-release\n",
            "  nvidia-settings python3 python3-apt python3-dbus python3-dev\n",
            "  python3-distutils python3-gdal python3-gi python3-lib2to3 python3-numpy\n",
            "  python3-software-properties python3-tk python3-xkit r-base-dev\n",
            "  screen-resolution-extra software-properties-common\n",
            "0 upgraded, 0 newly installed, 42 to remove and 15 not upgraded.\n",
            "After this operation, 110 MB disk space will be freed.\n",
            "(Reading database ... 146442 files and directories currently installed.)\n",
            "Removing cuda-10-0 (10.0.130-1) ...\n",
            "Removing cuda-10-1 (10.1.243-1) ...\n",
            "Removing cuda-demo-suite-10-0 (10.0.130-1) ...\n",
            "Removing cuda-demo-suite-10-1 (10.1.243-1) ...\n",
            "Removing cuda-runtime-10-1 (10.1.243-1) ...\n",
            "Removing cuda-runtime-10-0 (10.0.130-1) ...\n",
            "Removing cuda-drivers (460.32.03-1) ...\n",
            "Removing cuda-drivers-460 (460.32.03-1) ...\n",
            "Removing libboost-all-dev (1.65.1.0ubuntu1) ...\n",
            "Removing libboost-python-dev (1.65.1.0ubuntu1) ...\n",
            "Removing libboost-python1.65-dev (1.65.1+dfsg-0ubuntu5) ...\n",
            "Removing python3-dev (3.6.7-1~18.04) ...\n",
            "Removing dh-python (3.20180325ubuntu2) ...\n",
            "Removing libboost-iostreams-dev:amd64 (1.65.1.0ubuntu1) ...\n",
            "Removing libboost-iostreams1.65-dev:amd64 (1.65.1+dfsg-0ubuntu5) ...\n",
            "Removing libboost-mpi-python-dev (1.65.1.0ubuntu1) ...\n",
            "Removing libboost-mpi-python1.65-dev (1.65.1+dfsg-0ubuntu5) ...\n",
            "Removing libboost-mpi-python1.65.1 (1.65.1+dfsg-0ubuntu5) ...\n",
            "Removing libboost-regex-dev:amd64 (1.65.1.0ubuntu1) ...\n",
            "Removing libboost-regex1.65-dev:amd64 (1.65.1+dfsg-0ubuntu5) ...\n",
            "Removing r-base-dev (4.0.3-1.1804.0) ...\n",
            "Removing libxml2-dev:amd64 (2.9.4+dfsg1-6.1ubuntu1.3) ...\n",
            "Removing software-properties-common (0.96.24.32.14) ...\n",
            "Removing python3-software-properties (0.96.24.32.14) ...\n",
            "Removing lsb-release (9.20170808ubuntu1) ...\n",
            "Removing nvidia-settings (460.32.03-0ubuntu1) ...\n",
            "Removing python3-tk:amd64 (3.6.9-1~18.04) ...\n",
            "Removing screen-resolution-extra (0.17.3) ...\n",
            "Removing python3-gi (3.26.1-2ubuntu1) ...\n",
            "Removing python3-apt (1.6.5ubuntu0.5) ...\n",
            "Removing python3-dbus (1.2.6-1) ...\n",
            "Removing python3-gdal (2.2.3+dfsg-2) ...\n",
            "Removing python3-numpy (1:1.13.3-2ubuntu1) ...\n",
            "Removing python3-xkit (0.5.0ubuntu2) ...\n",
            "Removing libicu-le-hb-dev:amd64 (1.0.3+git161113-4) ...\n",
            "Removing libharfbuzz-dev:amd64 (1.7.2-1ubuntu1) ...\n",
            "Removing libglib2.0-dev:amd64 (2.56.4-0ubuntu0.18.04.6) ...\n",
            "Removing libglib2.0-dev-bin (2.56.4-0ubuntu0.18.04.6) ...\n",
            "Removing python3-distutils (3.6.9-1~18.04) ...\n",
            "Removing python3-lib2to3 (3.6.9-1~18.04) ...\n",
            "Removing python3 (3.6.7-1~18.04) ...\n",
            "Removing libicu-dev (60.2-3ubuntu3.1) ...\n",
            "Processing triggers for libglib2.0-0:amd64 (2.56.4-0ubuntu0.18.04.6) ...\n",
            "Processing triggers for libc-bin (2.27-3ubuntu1.3) ...\n",
            "/sbin/ldconfig.real: /usr/local/lib/python3.6/dist-packages/ideep4py/lib/libmkldnn.so.0 is not a symbolic link\n",
            "\n",
            "Processing triggers for man-db (2.8.3-2ubuntu0.1) ...\n",
            "Processing triggers for dbus (1.12.2-1ubuntu1.2) ...\n",
            "Processing triggers for mime-support (3.60ubuntu1) ...\n"
          ],
          "name": "stdout"
        }
      ]
    },
    {
      "cell_type": "markdown",
      "metadata": {
        "id": "mkn70RlalRTx"
      },
      "source": [
        "Установим Python 3.7."
      ]
    },
    {
      "cell_type": "code",
      "metadata": {
        "colab": {
          "base_uri": "https://localhost:8080/"
        },
        "id": "qfpUoVXMq2De",
        "outputId": "83ca0f50-048c-41cf-b1aa-4d48465ce541"
      },
      "source": [
        "!apt install python3.7"
      ],
      "execution_count": 4,
      "outputs": [
        {
          "output_type": "stream",
          "text": [
            "Reading package lists... Done\n",
            "Building dependency tree       \n",
            "Reading state information... Done\n",
            "The following packages were automatically installed and are no longer required:\n",
            "  cuda-command-line-tools-10-0 cuda-compiler-10-0 cuda-cuobjdump-10-0\n",
            "  cuda-cupti-10-0 cuda-documentation-10-0 cuda-documentation-10-1\n",
            "  cuda-gdb-10-0 cuda-gpu-library-advisor-10-0 cuda-libraries-10-0\n",
            "  cuda-memcheck-10-0 cuda-nsight-10-0 cuda-nsight-10-1\n",
            "  cuda-nsight-compute-10-0 cuda-nsight-compute-10-1 cuda-nsight-systems-10-1\n",
            "  cuda-nvcc-10-0 cuda-nvdisasm-10-0 cuda-nvml-dev-10-0 cuda-nvprof-10-0\n",
            "  cuda-nvprune-10-0 cuda-nvtx-10-0 cuda-nvvp-10-0 cuda-nvvp-10-1\n",
            "  cuda-samples-10-0 cuda-samples-10-1 cuda-toolkit-10-0 cuda-toolkit-10-1\n",
            "  cuda-tools-10-0 cuda-tools-10-1 cuda-visual-tools-10-0\n",
            "  cuda-visual-tools-10-1 default-jre distro-info-data dkms freeglut3\n",
            "  freeglut3-dev gir1.2-glib-2.0 gir1.2-harfbuzz-0.0 icu-devtools iso-codes\n",
            "  keyboard-configuration libargon2-0 libboost-atomic-dev\n",
            "  libboost-atomic1.65-dev libboost-atomic1.65.1 libboost-chrono-dev\n",
            "  libboost-chrono1.65-dev libboost-chrono1.65.1 libboost-container-dev\n",
            "  libboost-container1.65-dev libboost-container1.65.1 libboost-context-dev\n",
            "  libboost-context1.65-dev libboost-context1.65.1 libboost-coroutine-dev\n",
            "  libboost-coroutine1.65-dev libboost-coroutine1.65.1 libboost-date-time-dev\n",
            "  libboost-date-time1.65-dev libboost-date-time1.65.1 libboost-dev\n",
            "  libboost-exception-dev libboost-exception1.65-dev libboost-fiber-dev\n",
            "  libboost-fiber1.65-dev libboost-fiber1.65.1 libboost-filesystem-dev\n",
            "  libboost-filesystem1.65-dev libboost-filesystem1.65.1 libboost-graph-dev\n",
            "  libboost-graph-parallel-dev libboost-graph-parallel1.65-dev\n",
            "  libboost-graph-parallel1.65.1 libboost-graph1.65-dev libboost-graph1.65.1\n",
            "  libboost-iostreams1.65.1 libboost-locale-dev libboost-locale1.65-dev\n",
            "  libboost-locale1.65.1 libboost-log-dev libboost-log1.65-dev\n",
            "  libboost-log1.65.1 libboost-math-dev libboost-math1.65-dev\n",
            "  libboost-math1.65.1 libboost-mpi-dev libboost-mpi1.65-dev libboost-mpi1.65.1\n",
            "  libboost-numpy-dev libboost-numpy1.65-dev libboost-numpy1.65.1\n",
            "  libboost-program-options-dev libboost-program-options1.65-dev\n",
            "  libboost-program-options1.65.1 libboost-python1.65.1 libboost-random-dev\n",
            "  libboost-random1.65-dev libboost-random1.65.1 libboost-regex1.65.1\n",
            "  libboost-serialization-dev libboost-serialization1.65-dev\n",
            "  libboost-serialization1.65.1 libboost-signals-dev libboost-signals1.65-dev\n",
            "  libboost-signals1.65.1 libboost-stacktrace-dev libboost-stacktrace1.65-dev\n",
            "  libboost-stacktrace1.65.1 libboost-system-dev libboost-system1.65-dev\n",
            "  libboost-system1.65.1 libboost-test-dev libboost-test1.65-dev\n",
            "  libboost-test1.65.1 libboost-thread-dev libboost-thread1.65-dev\n",
            "  libboost-thread1.65.1 libboost-timer-dev libboost-timer1.65-dev\n",
            "  libboost-timer1.65.1 libboost-tools-dev libboost-type-erasure-dev\n",
            "  libboost-type-erasure1.65-dev libboost-type-erasure1.65.1 libboost-wave-dev\n",
            "  libboost-wave1.65-dev libboost-wave1.65.1 libboost1.65-dev\n",
            "  libboost1.65-tools-dev libbz2-dev libcap2 libcryptsetup12 libdevmapper1.02.1\n",
            "  libfontenc1 libgirepository-1.0-1 libglib2.0-bin libgraphite2-dev\n",
            "  libharfbuzz-gobject0 libharfbuzz-icu0 libicu-le-hb0 libiculx60 libidn11\n",
            "  libip4tc0 libjansson4 libnvidia-decode-460 libnvidia-encode-460\n",
            "  libnvidia-extra-460 libnvidia-fbc1-460 libnvidia-ifr1-460 libpam-systemd\n",
            "  libpcre16-3 libpcre2-16-0 libpcre2-32-0 libpcre2-dev libpcre2-posix0\n",
            "  libpcre3-dev libpcre32-3 libpcrecpp0v5 libpolkit-agent-1-0\n",
            "  libpolkit-backend-1-0 libpolkit-gobject-1-0 libpython3-stdlib\n",
            "  libreadline-dev libxfont2 libxi-dev libxkbfile1 libxmu-dev libxmu-headers\n",
            "  libxnvctrl0 mpi-default-bin mpi-default-dev nsight-compute-2020.3.0\n",
            "  nsight-systems-2020.4.3 nvidia-compute-utils-460 nvidia-dkms-460\n",
            "  nvidia-driver-460 nvidia-kernel-common-460 nvidia-kernel-source-460\n",
            "  nvidia-modprobe nvidia-utils-460 openjdk-11-jre policykit-1\n",
            "  policykit-1-gnome python-apt-common python3-minimal python3.6 python3.6-dev\n",
            "  python3.6-minimal systemd systemd-sysv udev x11-xkb-utils xserver-common\n",
            "  xserver-xorg-core-hwe-18.04 xserver-xorg-video-nvidia-460\n",
            "Use 'apt autoremove' to remove them.\n",
            "The following additional packages will be installed:\n",
            "  libpython3.7-minimal libpython3.7-stdlib python3.7-minimal\n",
            "Suggested packages:\n",
            "  python3.7-venv python3.7-doc binfmt-support\n",
            "The following NEW packages will be installed:\n",
            "  libpython3.7-minimal libpython3.7-stdlib python3.7 python3.7-minimal\n",
            "0 upgraded, 4 newly installed, 0 to remove and 15 not upgraded.\n",
            "Need to get 4,282 kB of archives.\n",
            "After this operation, 22.5 MB of additional disk space will be used.\n",
            "Get:1 http://archive.ubuntu.com/ubuntu bionic-updates/universe amd64 libpython3.7-minimal amd64 3.7.5-2~18.04 [546 kB]\n",
            "Get:2 http://archive.ubuntu.com/ubuntu bionic-updates/universe amd64 python3.7-minimal amd64 3.7.5-2~18.04 [1,691 kB]\n",
            "Get:3 http://archive.ubuntu.com/ubuntu bionic-updates/universe amd64 libpython3.7-stdlib amd64 3.7.5-2~18.04 [1,745 kB]\n",
            "Get:4 http://archive.ubuntu.com/ubuntu bionic-updates/universe amd64 python3.7 amd64 3.7.5-2~18.04 [301 kB]\n",
            "Fetched 4,282 kB in 2s (2,030 kB/s)\n",
            "Selecting previously unselected package libpython3.7-minimal:amd64.\n",
            "(Reading database ... 144523 files and directories currently installed.)\n",
            "Preparing to unpack .../libpython3.7-minimal_3.7.5-2~18.04_amd64.deb ...\n",
            "Unpacking libpython3.7-minimal:amd64 (3.7.5-2~18.04) ...\n",
            "Selecting previously unselected package python3.7-minimal.\n",
            "Preparing to unpack .../python3.7-minimal_3.7.5-2~18.04_amd64.deb ...\n",
            "Unpacking python3.7-minimal (3.7.5-2~18.04) ...\n",
            "Selecting previously unselected package libpython3.7-stdlib:amd64.\n",
            "Preparing to unpack .../libpython3.7-stdlib_3.7.5-2~18.04_amd64.deb ...\n",
            "Unpacking libpython3.7-stdlib:amd64 (3.7.5-2~18.04) ...\n",
            "Selecting previously unselected package python3.7.\n",
            "Preparing to unpack .../python3.7_3.7.5-2~18.04_amd64.deb ...\n",
            "Unpacking python3.7 (3.7.5-2~18.04) ...\n",
            "Setting up libpython3.7-minimal:amd64 (3.7.5-2~18.04) ...\n",
            "Setting up python3.7-minimal (3.7.5-2~18.04) ...\n",
            "Setting up libpython3.7-stdlib:amd64 (3.7.5-2~18.04) ...\n",
            "Setting up python3.7 (3.7.5-2~18.04) ...\n",
            "Processing triggers for mime-support (3.60ubuntu1) ...\n",
            "Processing triggers for man-db (2.8.3-2ubuntu0.1) ...\n"
          ],
          "name": "stdout"
        }
      ]
    },
    {
      "cell_type": "markdown",
      "metadata": {
        "id": "8joW1Ue1lWAF"
      },
      "source": [
        "Установим нужные Python 3.7 библиотеки."
      ]
    },
    {
      "cell_type": "code",
      "metadata": {
        "colab": {
          "base_uri": "https://localhost:8080/"
        },
        "id": "LTSPxD7CrBXN",
        "outputId": "2727e3a7-2d48-4496-a877-d649decbfb61"
      },
      "source": [
        "!apt install python3.7-distutils"
      ],
      "execution_count": 5,
      "outputs": [
        {
          "output_type": "stream",
          "text": [
            "Reading package lists... Done\n",
            "Building dependency tree       \n",
            "Reading state information... Done\n",
            "Note, selecting 'python3-distutils' instead of 'python3.7-distutils'\n",
            "The following packages were automatically installed and are no longer required:\n",
            "  cuda-command-line-tools-10-0 cuda-compiler-10-0 cuda-cuobjdump-10-0\n",
            "  cuda-cupti-10-0 cuda-documentation-10-0 cuda-documentation-10-1\n",
            "  cuda-gdb-10-0 cuda-gpu-library-advisor-10-0 cuda-libraries-10-0\n",
            "  cuda-memcheck-10-0 cuda-nsight-10-0 cuda-nsight-10-1\n",
            "  cuda-nsight-compute-10-0 cuda-nsight-compute-10-1 cuda-nsight-systems-10-1\n",
            "  cuda-nvcc-10-0 cuda-nvdisasm-10-0 cuda-nvml-dev-10-0 cuda-nvprof-10-0\n",
            "  cuda-nvprune-10-0 cuda-nvtx-10-0 cuda-nvvp-10-0 cuda-nvvp-10-1\n",
            "  cuda-samples-10-0 cuda-samples-10-1 cuda-toolkit-10-0 cuda-toolkit-10-1\n",
            "  cuda-tools-10-0 cuda-tools-10-1 cuda-visual-tools-10-0\n",
            "  cuda-visual-tools-10-1 default-jre distro-info-data dkms freeglut3\n",
            "  freeglut3-dev gir1.2-glib-2.0 gir1.2-harfbuzz-0.0 icu-devtools iso-codes\n",
            "  keyboard-configuration libargon2-0 libboost-atomic-dev\n",
            "  libboost-atomic1.65-dev libboost-atomic1.65.1 libboost-chrono-dev\n",
            "  libboost-chrono1.65-dev libboost-chrono1.65.1 libboost-container-dev\n",
            "  libboost-container1.65-dev libboost-container1.65.1 libboost-context-dev\n",
            "  libboost-context1.65-dev libboost-context1.65.1 libboost-coroutine-dev\n",
            "  libboost-coroutine1.65-dev libboost-coroutine1.65.1 libboost-date-time-dev\n",
            "  libboost-date-time1.65-dev libboost-date-time1.65.1 libboost-dev\n",
            "  libboost-exception-dev libboost-exception1.65-dev libboost-fiber-dev\n",
            "  libboost-fiber1.65-dev libboost-fiber1.65.1 libboost-filesystem-dev\n",
            "  libboost-filesystem1.65-dev libboost-filesystem1.65.1 libboost-graph-dev\n",
            "  libboost-graph-parallel-dev libboost-graph-parallel1.65-dev\n",
            "  libboost-graph-parallel1.65.1 libboost-graph1.65-dev libboost-graph1.65.1\n",
            "  libboost-iostreams1.65.1 libboost-locale-dev libboost-locale1.65-dev\n",
            "  libboost-locale1.65.1 libboost-log-dev libboost-log1.65-dev\n",
            "  libboost-log1.65.1 libboost-math-dev libboost-math1.65-dev\n",
            "  libboost-math1.65.1 libboost-mpi-dev libboost-mpi1.65-dev libboost-mpi1.65.1\n",
            "  libboost-numpy-dev libboost-numpy1.65-dev libboost-numpy1.65.1\n",
            "  libboost-program-options-dev libboost-program-options1.65-dev\n",
            "  libboost-program-options1.65.1 libboost-python1.65.1 libboost-random-dev\n",
            "  libboost-random1.65-dev libboost-random1.65.1 libboost-regex1.65.1\n",
            "  libboost-serialization-dev libboost-serialization1.65-dev\n",
            "  libboost-serialization1.65.1 libboost-signals-dev libboost-signals1.65-dev\n",
            "  libboost-signals1.65.1 libboost-stacktrace-dev libboost-stacktrace1.65-dev\n",
            "  libboost-stacktrace1.65.1 libboost-system-dev libboost-system1.65-dev\n",
            "  libboost-system1.65.1 libboost-test-dev libboost-test1.65-dev\n",
            "  libboost-test1.65.1 libboost-thread-dev libboost-thread1.65-dev\n",
            "  libboost-thread1.65.1 libboost-timer-dev libboost-timer1.65-dev\n",
            "  libboost-timer1.65.1 libboost-tools-dev libboost-type-erasure-dev\n",
            "  libboost-type-erasure1.65-dev libboost-type-erasure1.65.1 libboost-wave-dev\n",
            "  libboost-wave1.65-dev libboost-wave1.65.1 libboost1.65-dev\n",
            "  libboost1.65-tools-dev libbz2-dev libcap2 libcryptsetup12 libdevmapper1.02.1\n",
            "  libfontenc1 libgirepository-1.0-1 libglib2.0-bin libgraphite2-dev\n",
            "  libharfbuzz-gobject0 libharfbuzz-icu0 libicu-le-hb0 libiculx60 libidn11\n",
            "  libip4tc0 libjansson4 libnvidia-decode-460 libnvidia-encode-460\n",
            "  libnvidia-extra-460 libnvidia-fbc1-460 libnvidia-ifr1-460 libpam-systemd\n",
            "  libpcre16-3 libpcre2-16-0 libpcre2-32-0 libpcre2-dev libpcre2-posix0\n",
            "  libpcre3-dev libpcre32-3 libpcrecpp0v5 libpolkit-agent-1-0\n",
            "  libpolkit-backend-1-0 libpolkit-gobject-1-0 libreadline-dev libxfont2\n",
            "  libxi-dev libxkbfile1 libxmu-dev libxmu-headers libxnvctrl0 mpi-default-bin\n",
            "  mpi-default-dev nsight-compute-2020.3.0 nsight-systems-2020.4.3\n",
            "  nvidia-compute-utils-460 nvidia-dkms-460 nvidia-driver-460\n",
            "  nvidia-kernel-common-460 nvidia-kernel-source-460 nvidia-modprobe\n",
            "  nvidia-utils-460 openjdk-11-jre policykit-1 policykit-1-gnome\n",
            "  python-apt-common python3.6-dev systemd systemd-sysv udev x11-xkb-utils\n",
            "  xserver-common xserver-xorg-core-hwe-18.04 xserver-xorg-video-nvidia-460\n",
            "Use 'apt autoremove' to remove them.\n",
            "The following additional packages will be installed:\n",
            "  python3 python3-lib2to3\n",
            "Suggested packages:\n",
            "  python3-doc python3-tk python3-venv\n",
            "The following NEW packages will be installed:\n",
            "  python3 python3-distutils python3-lib2to3\n",
            "0 upgraded, 3 newly installed, 0 to remove and 15 not upgraded.\n",
            "Need to get 269 kB of archives.\n",
            "After this operation, 3,334 kB of additional disk space will be used.\n",
            "Get:1 http://archive.ubuntu.com/ubuntu bionic-updates/main amd64 python3 amd64 3.6.7-1~18.04 [47.2 kB]\n",
            "Get:2 http://archive.ubuntu.com/ubuntu bionic-updates/main amd64 python3-lib2to3 all 3.6.9-1~18.04 [77.4 kB]\n",
            "Get:3 http://archive.ubuntu.com/ubuntu bionic-updates/main amd64 python3-distutils all 3.6.9-1~18.04 [144 kB]\n",
            "Fetched 269 kB in 1s (234 kB/s)\n",
            "Selecting previously unselected package python3.\n",
            "(Reading database ... 145140 files and directories currently installed.)\n",
            "Preparing to unpack .../python3_3.6.7-1~18.04_amd64.deb ...\n",
            "Unpacking python3 (3.6.7-1~18.04) ...\n",
            "Selecting previously unselected package python3-lib2to3.\n",
            "Preparing to unpack .../python3-lib2to3_3.6.9-1~18.04_all.deb ...\n",
            "Unpacking python3-lib2to3 (3.6.9-1~18.04) ...\n",
            "Selecting previously unselected package python3-distutils.\n",
            "Preparing to unpack .../python3-distutils_3.6.9-1~18.04_all.deb ...\n",
            "Unpacking python3-distutils (3.6.9-1~18.04) ...\n",
            "Setting up python3 (3.6.7-1~18.04) ...\n",
            "Setting up python3-lib2to3 (3.6.9-1~18.04) ...\n",
            "Setting up python3-distutils (3.6.9-1~18.04) ...\n",
            "Processing triggers for man-db (2.8.3-2ubuntu0.1) ...\n"
          ],
          "name": "stdout"
        }
      ]
    },
    {
      "cell_type": "markdown",
      "metadata": {
        "id": "nTqEZfrAyni6"
      },
      "source": [
        "##### Скачаем и установим pip для Python 3.7."
      ]
    },
    {
      "cell_type": "code",
      "metadata": {
        "colab": {
          "base_uri": "https://localhost:8080/"
        },
        "id": "CaRNPYQ1rK10",
        "outputId": "37991523-4327-440a-8277-a8329d7994e0"
      },
      "source": [
        "!wget -c https://bootstrap.pypa.io/get-pip.py"
      ],
      "execution_count": 6,
      "outputs": [
        {
          "output_type": "stream",
          "text": [
            "--2021-02-07 09:47:04--  https://bootstrap.pypa.io/get-pip.py\n",
            "Resolving bootstrap.pypa.io (bootstrap.pypa.io)... 151.101.0.175, 151.101.64.175, 151.101.128.175, ...\n",
            "Connecting to bootstrap.pypa.io (bootstrap.pypa.io)|151.101.0.175|:443... connected.\n",
            "HTTP request sent, awaiting response... 200 OK\n",
            "Length: 1929903 (1.8M) [text/x-python]\n",
            "Saving to: ‘get-pip.py’\n",
            "\n",
            "\rget-pip.py            0%[                    ]       0  --.-KB/s               \rget-pip.py          100%[===================>]   1.84M  --.-KB/s    in 0.08s   \n",
            "\n",
            "2021-02-07 09:47:04 (24.0 MB/s) - ‘get-pip.py’ saved [1929903/1929903]\n",
            "\n"
          ],
          "name": "stdout"
        }
      ]
    },
    {
      "cell_type": "code",
      "metadata": {
        "colab": {
          "base_uri": "https://localhost:8080/"
        },
        "id": "MZVLXMOgrcjx",
        "outputId": "0e8071cf-1599-449c-eea9-a1b8df6b6ae0"
      },
      "source": [
        "!python3.7 get-pip.py"
      ],
      "execution_count": 7,
      "outputs": [
        {
          "output_type": "stream",
          "text": [
            "Collecting pip\n",
            "  Downloading pip-21.0.1-py3-none-any.whl (1.5 MB)\n",
            "\u001b[K     |████████████████████████████████| 1.5 MB 10.0 MB/s \n",
            "\u001b[?25hCollecting setuptools\n",
            "  Downloading setuptools-53.0.0-py3-none-any.whl (784 kB)\n",
            "\u001b[K     |████████████████████████████████| 784 kB 54.6 MB/s \n",
            "\u001b[?25hCollecting wheel\n",
            "  Downloading wheel-0.36.2-py2.py3-none-any.whl (35 kB)\n",
            "Installing collected packages: wheel, setuptools, pip\n",
            "Successfully installed pip-21.0.1 setuptools-53.0.0 wheel-0.36.2\n"
          ],
          "name": "stdout"
        }
      ]
    },
    {
      "cell_type": "markdown",
      "metadata": {
        "id": "IT5LAS8FywtN"
      },
      "source": [
        "##### Установим необходимые дополнительные модули."
      ]
    },
    {
      "cell_type": "code",
      "metadata": {
        "colab": {
          "base_uri": "https://localhost:8080/"
        },
        "id": "sR6beT9urz8o",
        "outputId": "d9d3134c-1afd-4609-8dfb-e931c5ddac3e"
      },
      "source": [
        "!pip3.7 install pillow pandas matplotlib ipykernel"
      ],
      "execution_count": 8,
      "outputs": [
        {
          "output_type": "stream",
          "text": [
            "Collecting pillow\n",
            "  Downloading Pillow-8.1.0-cp37-cp37m-manylinux1_x86_64.whl (2.2 MB)\n",
            "\u001b[K     |████████████████████████████████| 2.2 MB 8.4 MB/s \n",
            "\u001b[?25hCollecting pandas\n",
            "  Downloading pandas-1.2.1-cp37-cp37m-manylinux1_x86_64.whl (9.9 MB)\n",
            "\u001b[K     |████████████████████████████████| 9.9 MB 49.7 MB/s \n",
            "\u001b[?25hCollecting matplotlib\n",
            "  Downloading matplotlib-3.3.4-cp37-cp37m-manylinux1_x86_64.whl (11.5 MB)\n",
            "\u001b[K     |████████████████████████████████| 11.5 MB 65.6 MB/s \n",
            "\u001b[?25hCollecting ipykernel\n",
            "  Downloading ipykernel-5.4.3-py3-none-any.whl (120 kB)\n",
            "\u001b[K     |████████████████████████████████| 120 kB 81.7 MB/s \n",
            "\u001b[?25hCollecting traitlets>=4.1.0\n",
            "  Downloading traitlets-5.0.5-py3-none-any.whl (100 kB)\n",
            "\u001b[K     |████████████████████████████████| 100 kB 12.8 MB/s \n",
            "\u001b[?25hCollecting jupyter-client\n",
            "  Downloading jupyter_client-6.1.11-py3-none-any.whl (108 kB)\n",
            "\u001b[K     |████████████████████████████████| 108 kB 80.3 MB/s \n",
            "\u001b[?25hCollecting tornado>=4.2\n",
            "  Downloading tornado-6.1-cp37-cp37m-manylinux2010_x86_64.whl (428 kB)\n",
            "\u001b[K     |████████████████████████████████| 428 kB 67.1 MB/s \n",
            "\u001b[?25hCollecting ipython>=5.0.0\n",
            "  Downloading ipython-7.20.0-py3-none-any.whl (784 kB)\n",
            "\u001b[K     |████████████████████████████████| 784 kB 72.0 MB/s \n",
            "\u001b[?25hCollecting prompt-toolkit!=3.0.0,!=3.0.1,<3.1.0,>=2.0.0\n",
            "  Downloading prompt_toolkit-3.0.14-py3-none-any.whl (359 kB)\n",
            "\u001b[K     |████████████████████████████████| 359 kB 66.0 MB/s \n",
            "\u001b[?25hRequirement already satisfied: setuptools>=18.5 in /usr/local/lib/python3.7/dist-packages (from ipython>=5.0.0->ipykernel) (53.0.0)\n",
            "Collecting pygments\n",
            "  Downloading Pygments-2.7.4-py3-none-any.whl (950 kB)\n",
            "\u001b[K     |████████████████████████████████| 950 kB 56.5 MB/s \n",
            "\u001b[?25hCollecting pexpect>4.3\n",
            "  Downloading pexpect-4.8.0-py2.py3-none-any.whl (59 kB)\n",
            "\u001b[K     |████████████████████████████████| 59 kB 8.1 MB/s \n",
            "\u001b[?25hCollecting jedi>=0.16\n",
            "  Downloading jedi-0.18.0-py2.py3-none-any.whl (1.4 MB)\n",
            "\u001b[K     |████████████████████████████████| 1.4 MB 68.2 MB/s \n",
            "\u001b[?25hCollecting pickleshare\n",
            "  Downloading pickleshare-0.7.5-py2.py3-none-any.whl (6.9 kB)\n",
            "Collecting backcall\n",
            "  Downloading backcall-0.2.0-py2.py3-none-any.whl (11 kB)\n",
            "Collecting decorator\n",
            "  Downloading decorator-4.4.2-py2.py3-none-any.whl (9.2 kB)\n",
            "Collecting parso<0.9.0,>=0.8.0\n",
            "  Downloading parso-0.8.1-py2.py3-none-any.whl (93 kB)\n",
            "\u001b[K     |████████████████████████████████| 93 kB 2.9 MB/s \n",
            "\u001b[?25hCollecting ptyprocess>=0.5\n",
            "  Downloading ptyprocess-0.7.0-py2.py3-none-any.whl (13 kB)\n",
            "Collecting wcwidth\n",
            "  Downloading wcwidth-0.2.5-py2.py3-none-any.whl (30 kB)\n",
            "Collecting ipython-genutils\n",
            "  Downloading ipython_genutils-0.2.0-py2.py3-none-any.whl (26 kB)\n",
            "Collecting numpy>=1.15\n",
            "  Downloading numpy-1.20.0-cp37-cp37m-manylinux2010_x86_64.whl (15.3 MB)\n",
            "\u001b[K     |████████████████████████████████| 15.3 MB 19 kB/s \n",
            "\u001b[?25hCollecting python-dateutil>=2.1\n",
            "  Downloading python_dateutil-2.8.1-py2.py3-none-any.whl (227 kB)\n",
            "\u001b[K     |████████████████████████████████| 227 kB 75.3 MB/s \n",
            "\u001b[?25hCollecting cycler>=0.10\n",
            "  Downloading cycler-0.10.0-py2.py3-none-any.whl (6.5 kB)\n",
            "Collecting kiwisolver>=1.0.1\n",
            "  Downloading kiwisolver-1.3.1-cp37-cp37m-manylinux1_x86_64.whl (1.1 MB)\n",
            "\u001b[K     |████████████████████████████████| 1.1 MB 67.2 MB/s \n",
            "\u001b[?25hCollecting pyparsing!=2.0.4,!=2.1.2,!=2.1.6,>=2.0.3\n",
            "  Downloading pyparsing-2.4.7-py2.py3-none-any.whl (67 kB)\n",
            "\u001b[K     |████████████████████████████████| 67 kB 7.7 MB/s \n",
            "\u001b[?25hCollecting six\n",
            "  Downloading six-1.15.0-py2.py3-none-any.whl (10 kB)\n",
            "Collecting pytz>=2017.3\n",
            "  Downloading pytz-2021.1-py2.py3-none-any.whl (510 kB)\n",
            "\u001b[K     |████████████████████████████████| 510 kB 54.8 MB/s \n",
            "\u001b[?25hCollecting jupyter-core>=4.6.0\n",
            "  Downloading jupyter_core-4.7.1-py3-none-any.whl (82 kB)\n",
            "\u001b[K     |████████████████████████████████| 82 kB 1.6 MB/s \n",
            "\u001b[?25hCollecting pyzmq>=13\n",
            "  Downloading pyzmq-22.0.2-cp37-cp37m-manylinux1_x86_64.whl (1.1 MB)\n",
            "\u001b[K     |████████████████████████████████| 1.1 MB 59.9 MB/s \n",
            "\u001b[?25hInstalling collected packages: ipython-genutils, wcwidth, traitlets, six, ptyprocess, parso, tornado, pyzmq, python-dateutil, pygments, prompt-toolkit, pickleshare, pexpect, jupyter-core, jedi, decorator, backcall, pytz, pyparsing, pillow, numpy, kiwisolver, jupyter-client, ipython, cycler, pandas, matplotlib, ipykernel\n",
            "Successfully installed backcall-0.2.0 cycler-0.10.0 decorator-4.4.2 ipykernel-5.4.3 ipython-7.20.0 ipython-genutils-0.2.0 jedi-0.18.0 jupyter-client-6.1.11 jupyter-core-4.7.1 kiwisolver-1.3.1 matplotlib-3.3.4 numpy-1.20.0 pandas-1.2.1 parso-0.8.1 pexpect-4.8.0 pickleshare-0.7.5 pillow-8.1.0 prompt-toolkit-3.0.14 ptyprocess-0.7.0 pygments-2.7.4 pyparsing-2.4.7 python-dateutil-2.8.1 pytz-2021.1 pyzmq-22.0.2 six-1.15.0 tornado-6.1 traitlets-5.0.5 wcwidth-0.2.5\n"
          ],
          "name": "stdout"
        }
      ]
    },
    {
      "cell_type": "markdown",
      "metadata": {
        "id": "e6PnUoz4yaTa"
      },
      "source": [
        "##### Установка нужной (для Колаба) версии pytorch."
      ]
    },
    {
      "cell_type": "code",
      "metadata": {
        "colab": {
          "base_uri": "https://localhost:8080/"
        },
        "id": "sEWNKJoHsO4z",
        "outputId": "5e0871b5-c209-4302-a4c2-76dcd6663cb5"
      },
      "source": [
        "!pip3.7 install --upgrade --force-reinstall torch==1.7.1+cu101 torchvision==0.8.2+cu101 torchaudio==0.7.2 -f https://download.pytorch.org/whl/torch_stable.html"
      ],
      "execution_count": 9,
      "outputs": [
        {
          "output_type": "stream",
          "text": [
            "Looking in links: https://download.pytorch.org/whl/torch_stable.html\n",
            "Collecting torch==1.7.1+cu101\n",
            "  Downloading https://download.pytorch.org/whl/cu101/torch-1.7.1%2Bcu101-cp37-cp37m-linux_x86_64.whl (735.4 MB)\n",
            "\u001b[K     |████████████████████████████████| 735.4 MB 15 kB/s \n",
            "\u001b[?25hCollecting torchvision==0.8.2+cu101\n",
            "  Downloading https://download.pytorch.org/whl/cu101/torchvision-0.8.2%2Bcu101-cp37-cp37m-linux_x86_64.whl (12.8 MB)\n",
            "\u001b[K     |████████████████████████████████| 12.8 MB 77 kB/s \n",
            "\u001b[?25hCollecting torchaudio==0.7.2\n",
            "  Downloading torchaudio-0.7.2-cp37-cp37m-manylinux1_x86_64.whl (7.6 MB)\n",
            "\u001b[K     |████████████████████████████████| 7.6 MB 5.1 MB/s \n",
            "\u001b[?25hCollecting numpy\n",
            "  Using cached numpy-1.20.0-cp37-cp37m-manylinux2010_x86_64.whl (15.3 MB)\n",
            "Collecting typing-extensions\n",
            "  Downloading typing_extensions-3.7.4.3-py3-none-any.whl (22 kB)\n",
            "Collecting pillow>=4.1.1\n",
            "  Using cached Pillow-8.1.0-cp37-cp37m-manylinux1_x86_64.whl (2.2 MB)\n",
            "Installing collected packages: typing-extensions, numpy, torch, pillow, torchvision, torchaudio\n",
            "  Attempting uninstall: numpy\n",
            "    Found existing installation: numpy 1.20.0\n",
            "    Uninstalling numpy-1.20.0:\n",
            "      Successfully uninstalled numpy-1.20.0\n",
            "  Attempting uninstall: pillow\n",
            "    Found existing installation: Pillow 8.1.0\n",
            "    Uninstalling Pillow-8.1.0:\n",
            "      Successfully uninstalled Pillow-8.1.0\n",
            "Successfully installed numpy-1.20.0 pillow-8.1.0 torch-1.7.1+cu101 torchaudio-0.7.2 torchvision-0.8.2+cu101 typing-extensions-3.7.4.3\n"
          ],
          "name": "stdout"
        }
      ]
    },
    {
      "cell_type": "markdown",
      "metadata": {
        "id": "tGdgLwSJyQTh"
      },
      "source": [
        "##### Установка модуля для бота."
      ]
    },
    {
      "cell_type": "code",
      "metadata": {
        "colab": {
          "base_uri": "https://localhost:8080/"
        },
        "id": "PIGvN8bW82_y",
        "outputId": "da40e719-9649-4813-f12a-04d68323ce5a"
      },
      "source": [
        "!pip install aiogram"
      ],
      "execution_count": 10,
      "outputs": [
        {
          "output_type": "stream",
          "text": [
            "Collecting aiogram\n",
            "  Downloading aiogram-2.11.2-py3-none-any.whl (171 kB)\n",
            "\u001b[?25l\r\u001b[K     |██                              | 10 kB 34.4 MB/s eta 0:00:01\r\u001b[K     |███▉                            | 20 kB 20.2 MB/s eta 0:00:01\r\u001b[K     |█████▊                          | 30 kB 11.5 MB/s eta 0:00:01\r\u001b[K     |███████▋                        | 40 kB 9.3 MB/s eta 0:00:01\r\u001b[K     |█████████▌                      | 51 kB 7.9 MB/s eta 0:00:01\r\u001b[K     |███████████▌                    | 61 kB 8.2 MB/s eta 0:00:01\r\u001b[K     |█████████████▍                  | 71 kB 8.2 MB/s eta 0:00:01\r\u001b[K     |███████████████▎                | 81 kB 8.3 MB/s eta 0:00:01\r\u001b[K     |█████████████████▏              | 92 kB 8.6 MB/s eta 0:00:01\r\u001b[K     |███████████████████             | 102 kB 7.5 MB/s eta 0:00:01\r\u001b[K     |█████████████████████           | 112 kB 7.5 MB/s eta 0:00:01\r\u001b[K     |███████████████████████         | 122 kB 7.5 MB/s eta 0:00:01\r\u001b[K     |████████████████████████▉       | 133 kB 7.5 MB/s eta 0:00:01\r\u001b[K     |██████████████████████████▊     | 143 kB 7.5 MB/s eta 0:00:01\r\u001b[K     |████████████████████████████▋   | 153 kB 7.5 MB/s eta 0:00:01\r\u001b[K     |██████████████████████████████▌ | 163 kB 7.5 MB/s eta 0:00:01\r\u001b[K     |████████████████████████████████| 171 kB 7.5 MB/s \n",
            "\u001b[?25hCollecting certifi>=2020.6.20\n",
            "  Downloading certifi-2020.12.5-py2.py3-none-any.whl (147 kB)\n",
            "\u001b[K     |████████████████████████████████| 147 kB 7.7 MB/s \n",
            "\u001b[?25hCollecting aiohttp<4.0.0,>=3.7.2\n",
            "  Downloading aiohttp-3.7.3-cp37-cp37m-manylinux2014_x86_64.whl (1.3 MB)\n",
            "\u001b[K     |████████████████████████████████| 1.3 MB 11.9 MB/s \n",
            "\u001b[?25hCollecting Babel>=2.8.0\n",
            "  Downloading Babel-2.9.0-py2.py3-none-any.whl (8.8 MB)\n",
            "\u001b[K     |████████████████████████████████| 8.8 MB 80 kB/s \n",
            "\u001b[?25hCollecting attrs>=17.3.0\n",
            "  Downloading attrs-20.3.0-py2.py3-none-any.whl (49 kB)\n",
            "\u001b[K     |████████████████████████████████| 49 kB 7.4 MB/s \n",
            "\u001b[?25hRequirement already satisfied: typing-extensions>=3.6.5 in /usr/local/lib/python3.7/dist-packages (from aiohttp<4.0.0,>=3.7.2->aiogram) (3.7.4.3)\n",
            "Collecting async-timeout<4.0,>=3.0\n",
            "  Downloading async_timeout-3.0.1-py3-none-any.whl (8.2 kB)\n",
            "Collecting yarl<2.0,>=1.0\n",
            "  Downloading yarl-1.6.3-cp37-cp37m-manylinux2014_x86_64.whl (294 kB)\n",
            "\u001b[K     |████████████████████████████████| 294 kB 78.3 MB/s \n",
            "\u001b[?25hCollecting multidict<7.0,>=4.5\n",
            "  Downloading multidict-5.1.0-cp37-cp37m-manylinux2014_x86_64.whl (142 kB)\n",
            "\u001b[K     |████████████████████████████████| 142 kB 74.4 MB/s \n",
            "\u001b[?25hCollecting chardet<4.0,>=2.0\n",
            "  Downloading chardet-3.0.4-py2.py3-none-any.whl (133 kB)\n",
            "\u001b[K     |████████████████████████████████| 133 kB 86.6 MB/s \n",
            "\u001b[?25hRequirement already satisfied: pytz>=2015.7 in /usr/local/lib/python3.7/dist-packages (from Babel>=2.8.0->aiogram) (2021.1)\n",
            "Collecting idna>=2.0\n",
            "  Downloading idna-3.1-py3-none-any.whl (58 kB)\n",
            "\u001b[K     |████████████████████████████████| 58 kB 8.2 MB/s \n",
            "\u001b[?25hInstalling collected packages: multidict, idna, yarl, chardet, attrs, async-timeout, certifi, Babel, aiohttp, aiogram\n",
            "Successfully installed Babel-2.9.0 aiogram-2.11.2 aiohttp-3.7.3 async-timeout-3.0.1 attrs-20.3.0 certifi-2020.12.5 chardet-3.0.4 idna-3.1 multidict-5.1.0 yarl-1.6.3\n"
          ],
          "name": "stdout"
        }
      ]
    },
    {
      "cell_type": "markdown",
      "metadata": {
        "id": "sdWHk-HoyGK_"
      },
      "source": [
        "##### Запуск бота."
      ]
    },
    {
      "cell_type": "code",
      "metadata": {
        "colab": {
          "base_uri": "https://localhost:8080/"
        },
        "id": "ELSP4vLnCsvL",
        "outputId": "1459ed5f-11fe-41a5-d0b6-70e7ae74772b"
      },
      "source": [
        "!python3.7 gdrive/MyDrive/pix2pix/DLS_AlexK_bot_pix2pix.py"
      ],
      "execution_count": 19,
      "outputs": [
        {
          "output_type": "stream",
          "text": [
            "INFO:aiogram:Bot: DLS_AlexK [@DLS_AlexK_bot]\n",
            "WARNING:aiogram:Updates were skipped successfully.\n",
            "INFO:aiogram.dispatcher.dispatcher:Start polling.\n",
            "INFO:aiogram.dispatcher.dispatcher:Stop polling...\n",
            "WARNING:aiogram:Goodbye!\n",
            "Error in atexit._run_exitfuncs:\n",
            "Traceback (most recent call last):\n",
            "  File \"/usr/lib/python3.7/concurrent/futures/thread.py\", line 40, in _python_exit\n",
            "    t.join()\n",
            "  File \"/usr/lib/python3.7/threading.py\", line 1044, in join\n",
            "    self._wait_for_tstate_lock()\n",
            "  File \"/usr/lib/python3.7/threading.py\", line 1060, in _wait_for_tstate_lock\n",
            "    elif lock.acquire(block, timeout):\n",
            "KeyboardInterrupt\n"
          ],
          "name": "stdout"
        }
      ]
    },
    {
      "cell_type": "code",
      "metadata": {
        "colab": {
          "base_uri": "https://localhost:8080/"
        },
        "id": "8AEhu975w0x7",
        "outputId": "4aee995f-608f-4521-dbf4-4ca393ee768f"
      },
      "source": [
        "!ls "
      ],
      "execution_count": 20,
      "outputs": [
        {
          "output_type": "stream",
          "text": [
            "gdrive\tget-pip.py  sample_data\n"
          ],
          "name": "stdout"
        }
      ]
    },
    {
      "cell_type": "markdown",
      "metadata": {
        "id": "JBSwy26_90Lu"
      },
      "source": [
        "Бот загружает исходную картинку (портрет), производит генерацию новой картинки (скетча), возвращает результат и удаляет все картинки с локального диска."
      ]
    }
  ]
}